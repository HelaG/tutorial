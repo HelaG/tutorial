{
 "cells": [
  {
   "cell_type": "markdown",
   "metadata": {},
   "source": [
    "# Première approche\n",
    "\n",
    "## Objectif : Première prise en main d'Open fisca France. \n",
    "\n",
    "- Importer Openfisca\n",
    "- Créer un cas type de base\n",
    "- Calculer revenu disponible, irpp, etc\n",
    "- Simuler une réforme\n"
   ]
  },
  {
   "cell_type": "markdown",
   "metadata": {},
   "source": [
    "## Import d'openfisca"
   ]
  },
  {
   "cell_type": "markdown",
   "metadata": {},
   "source": [
    "### Import des packages\n"
   ]
  },
  {
   "cell_type": "code",
   "execution_count": 16,
   "metadata": {},
   "outputs": [],
   "source": [
    "from openfisca_france import FranceTaxBenefitSystem\n",
    "import openfisca_core"
   ]
  },
  {
   "cell_type": "markdown",
   "metadata": {},
   "source": [
    "## Création d'un scénario"
   ]
  },
  {
   "cell_type": "markdown",
   "metadata": {},
   "source": [
    "### Import du système socio-fiscal français"
   ]
  },
  {
   "cell_type": "code",
   "execution_count": 2,
   "metadata": {},
   "outputs": [],
   "source": [
    "tax_benefit_system = FranceTaxBenefitSystem()"
   ]
  },
  {
   "cell_type": "code",
   "execution_count": 3,
   "metadata": {},
   "outputs": [],
   "source": [
    "scenario = tax_benefit_system.new_scenario()"
   ]
  },
  {
   "cell_type": "markdown",
   "metadata": {},
   "source": [
    "### Création d'un cas type"
   ]
  },
  {
   "cell_type": "markdown",
   "metadata": {},
   "source": [
    "On prend un cas type simple : une famille monoparentale avec deux enfants. On décrit, la période, le premier parent et chacun des enfants."
   ]
  },
  {
   "cell_type": "code",
   "execution_count": 4,
   "metadata": {},
   "outputs": [
    {
     "data": {
      "text/plain": [
       "<openfisca_france.scenarios.Scenario at 0x7f2c2830d4d0>"
      ]
     },
     "execution_count": 4,
     "metadata": {},
     "output_type": "execute_result"
    }
   ],
   "source": [
    "scenario.init_single_entity(\n",
    "    period = '2017',\n",
    "    parent1 = dict(\n",
    "        age = 40,\n",
    "        salaire_de_base = 50000,\n",
    "        categorie_salarie = 'prive_cadre' \n",
    "        ),\n",
    "    enfants = [\n",
    "        dict(age = 1),\n",
    "        dict(age = 10),\n",
    "        ],\n",
    "    )"
   ]
  },
  {
   "cell_type": "markdown",
   "metadata": {},
   "source": [
    "## Simulation"
   ]
  },
  {
   "cell_type": "code",
   "execution_count": 5,
   "metadata": {},
   "outputs": [],
   "source": [
    "simulation = scenario.new_simulation()"
   ]
  },
  {
   "cell_type": "markdown",
   "metadata": {},
   "source": [
    "### Calcul de l'impot sur le revenu (IRPP)"
   ]
  },
  {
   "cell_type": "code",
   "execution_count": 6,
   "metadata": {},
   "outputs": [
    {
     "data": {
      "text/plain": [
       "-2380.0"
      ]
     },
     "execution_count": 6,
     "metadata": {},
     "output_type": "execute_result"
    }
   ],
   "source": [
    "simulation.calculate('irpp', '2017')[0].round()"
   ]
  },
  {
   "cell_type": "markdown",
   "metadata": {},
   "source": [
    "### Calcul du revenu disponible"
   ]
  },
  {
   "cell_type": "code",
   "execution_count": 7,
   "metadata": {},
   "outputs": [
    {
     "data": {
      "text/plain": [
       "43361.0"
      ]
     },
     "execution_count": 7,
     "metadata": {},
     "output_type": "execute_result"
    }
   ],
   "source": [
    "simulation.calculate('revenu_disponible', '2017')[0].round()"
   ]
  },
  {
   "cell_type": "code",
   "execution_count": 8,
   "metadata": {},
   "outputs": [
    {
     "data": {
      "text/plain": [
       "39002.0"
      ]
     },
     "execution_count": 8,
     "metadata": {},
     "output_type": "execute_result"
    }
   ],
   "source": [
    "simulation.calculate('revenu_net', '2017')[0].round()"
   ]
  },
  {
   "cell_type": "code",
   "execution_count": 9,
   "metadata": {},
   "outputs": [
    {
     "data": {
      "text/plain": [
       "130.0"
      ]
     },
     "execution_count": 9,
     "metadata": {},
     "output_type": "execute_result"
    }
   ],
   "source": [
    "simulation.calculate('af', '2017-01')[0].round()"
   ]
  },
  {
   "cell_type": "code",
   "execution_count": 10,
   "metadata": {},
   "outputs": [
    {
     "data": {
      "text/plain": [
       "0.0"
      ]
     },
     "execution_count": 10,
     "metadata": {},
     "output_type": "execute_result"
    }
   ],
   "source": [
    "simulation.calculate('ppa', '2017-01')[0].round()"
   ]
  },
  {
   "cell_type": "markdown",
   "metadata": {},
   "source": [
    "## Simulation d'une réforme simple"
   ]
  },
  {
   "cell_type": "markdown",
   "metadata": {},
   "source": [
    "On simule une réforme de l'impôt sur le revenu. Par exemple, on passe le taux d'impôt sur la première tranche de 0,14 à 0,3."
   ]
  },
  {
   "cell_type": "code",
   "execution_count": null,
   "metadata": {},
   "outputs": [],
   "source": [
    "On importe les fonction Reform et period de openfisca-core. "
   ]
  },
  {
   "cell_type": "code",
   "execution_count": null,
   "metadata": {},
   "outputs": [],
   "source": [
    "from openfisca_core.reforms import Reform\n",
    "from openfisca_core.periods import period"
   ]
  },
  {
   "cell_type": "markdown",
   "metadata": {},
   "source": [
    "On regarde les taux sur la première tranche"
   ]
  },
  {
   "cell_type": "code",
   "execution_count": 11,
   "metadata": {},
   "outputs": [
    {
     "data": {
      "text/plain": [
       "2014-01-01: 0.14\n",
       "2006-01-01: 0.055\n",
       "2003-01-01: 0.0683\n",
       "2002-01-01: 0.0705\n",
       "2001-01-01: 0.075\n",
       "2000-01-01: 0.0825\n",
       "1999-01-01: 0.095\n",
       "1996-01-01: 0.105\n",
       "1993-01-01: 0.12\n",
       "1973-01-01: 0.05\n",
       "1948-01-01: 0.1\n",
       "1945-01-01: 0.12"
      ]
     },
     "execution_count": 11,
     "metadata": {},
     "output_type": "execute_result"
    }
   ],
   "source": [
    "tax_benefit_system.parameters.impot_revenu.bareme.brackets[1].rate"
   ]
  },
  {
   "cell_type": "markdown",
   "metadata": {},
   "source": [
    "On définit la réforme"
   ]
  },
  {
   "cell_type": "code",
   "execution_count": 26,
   "metadata": {},
   "outputs": [],
   "source": [
    "def modify_parameters(parameters):\n",
    "    reform_period = period(\"2017\")\n",
    "    parameters.impot_revenu.bareme.brackets[1].rate.update(period = reform_period, value = 0.30)\n",
    "    return parameters\n",
    "\n",
    "class modif_irpp(Reform):\n",
    "    name = u'Increase rate of irpp'\n",
    "\n",
    "    def apply(self):\n",
    "        self.modify_parameters(modifier_function = modify_parameters)"
   ]
  },
  {
   "cell_type": "markdown",
   "metadata": {},
   "source": [
    "On l'applique au système socio fiscal français"
   ]
  },
  {
   "cell_type": "code",
   "execution_count": 27,
   "metadata": {},
   "outputs": [],
   "source": [
    "tax_benefit_system_reformed = modif_irpp(tax_benefit_system)"
   ]
  },
  {
   "cell_type": "code",
   "execution_count": 35,
   "metadata": {},
   "outputs": [
    {
     "data": {
      "text/plain": [
       "2018-01-01: 0.14\n",
       "2017-01-01: 0.3\n",
       "2014-01-01: 0.14\n",
       "2006-01-01: 0.055\n",
       "2003-01-01: 0.0683\n",
       "2002-01-01: 0.0705\n",
       "2001-01-01: 0.075\n",
       "2000-01-01: 0.0825\n",
       "1999-01-01: 0.095\n",
       "1996-01-01: 0.105\n",
       "1993-01-01: 0.12\n",
       "1973-01-01: 0.05\n",
       "1948-01-01: 0.1\n",
       "1945-01-01: 0.12"
      ]
     },
     "execution_count": 35,
     "metadata": {},
     "output_type": "execute_result"
    }
   ],
   "source": [
    "tax_benefit_system_reformed.parameters.impot_revenu.bareme.brackets[1].rate"
   ]
  },
  {
   "cell_type": "markdown",
   "metadata": {},
   "source": [
    "On définit un nouveau scénario"
   ]
  },
  {
   "cell_type": "code",
   "execution_count": 36,
   "metadata": {},
   "outputs": [],
   "source": [
    "scenario2 = tax_benefit_system_reformed.new_scenario()"
   ]
  },
  {
   "cell_type": "code",
   "execution_count": 29,
   "metadata": {},
   "outputs": [
    {
     "data": {
      "text/plain": [
       "<openfisca_france.scenarios.Scenario at 0x7f2c258565d0>"
      ]
     },
     "execution_count": 29,
     "metadata": {},
     "output_type": "execute_result"
    }
   ],
   "source": [
    "scenario2.init_single_entity(\n",
    "    period = '2017',\n",
    "    parent1 = dict(\n",
    "        age = 40,\n",
    "        salaire_de_base = 50000,\n",
    "        categorie_salarie = 'prive_cadre' \n",
    "        ),\n",
    "    enfants = [\n",
    "        dict(age = 1),\n",
    "        dict(age = 10),\n",
    "        ],\n",
    "    )"
   ]
  },
  {
   "cell_type": "code",
   "execution_count": 30,
   "metadata": {},
   "outputs": [],
   "source": [
    "simulation2 = scenario2.new_simulation()"
   ]
  },
  {
   "cell_type": "code",
   "execution_count": 33,
   "metadata": {},
   "outputs": [
    {
     "data": {
      "text/plain": [
       "-5100.0"
      ]
     },
     "execution_count": 33,
     "metadata": {},
     "output_type": "execute_result"
    }
   ],
   "source": [
    "simulation2.calculate('irpp', '2017')[0].round()"
   ]
  },
  {
   "cell_type": "code",
   "execution_count": 34,
   "metadata": {},
   "outputs": [
    {
     "data": {
      "text/plain": [
       "-2380.0"
      ]
     },
     "execution_count": 34,
     "metadata": {},
     "output_type": "execute_result"
    }
   ],
   "source": [
    "simulation.calculate('irpp', '2017')[0].round()"
   ]
  },
  {
   "cell_type": "markdown",
   "metadata": {},
   "source": [
    "L'impôt sur le revenu est passé de 2 380 euros à 5 100 euros."
   ]
  }
 ],
 "metadata": {
  "kernelspec": {
   "display_name": "Python 2",
   "language": "python",
   "name": "python2"
  },
  "language_info": {
   "codemirror_mode": {
    "name": "ipython",
    "version": 2
   },
   "file_extension": ".py",
   "mimetype": "text/x-python",
   "name": "python",
   "nbconvert_exporter": "python",
   "pygments_lexer": "ipython2",
   "version": "2.7.13"
  }
 },
 "nbformat": 4,
 "nbformat_minor": 2
}
