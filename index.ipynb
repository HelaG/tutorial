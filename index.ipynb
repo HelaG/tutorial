{
 "cells": [
  {
   "cell_type": "markdown",
   "metadata": {},
   "source": [
    " <img src=\"http://www.openfisca.fr/hotlinks/logo-openfisca.svg\" width=\"298\" align=\"right\">\n",
    "<center>\n",
    "<b>\n",
    "<i>\n",
    "<font size = '8' color = 'grey'>\n",
    "<br />\n",
    "<br />\n",
    "Getting Started <br /> <br />\n",
    "with OpenFisca\n",
    "</font>\n",
    "</i>\n",
    "</b>\n",
    "\n",
    "\n",
    "</center>\n",
    "<br />\n",
    "<br />\n",
    "<br />\n",
    "<br />\n",
    "\n",
    "<center>\n",
    "[OpenFisca](https://www.openfisca.fr/) is an open micro-simulator of the tax-benefit system.   \n",
    "It allows users to calculate many social benefits and taxes paid by households   \n",
    "and to simulate the impact of reforms on their budget. \n",
    "</center>\n",
    "<br />\n",
    "<br />\n",
    "Here we offer you an environnment to discover OpenFisca thanks to Jupyter Notebook.  \n",
    "You will find tutorials and blank notebooks to dive in this software.\n",
    "\n",
    "For further information please see the [documentation website](https://doc.openfisca.fr/en/index.html).\n",
    "### Tutorials\n",
    "\n",
    "- [Getting Started](getting_started.ipynb)\n",
    "- [How to handle periods](how_to_handle_periods.ipynb)\n",
    "\n",
    "### Let's exercise\n",
    "\n",
    "- [Blank Notebook](blank.ipynb)"
   ]
  }
 ],
 "metadata": {
  "kernelspec": {
   "display_name": "Python 2",
   "language": "python",
   "name": "python2"
  },
  "language_info": {
   "codemirror_mode": {
    "name": "ipython",
    "version": 2
   },
   "file_extension": ".py",
   "mimetype": "text/x-python",
   "name": "python",
   "nbconvert_exporter": "python",
   "pygments_lexer": "ipython2",
   "version": "2.7.9"
  }
 },
 "nbformat": 4,
 "nbformat_minor": 1
}
