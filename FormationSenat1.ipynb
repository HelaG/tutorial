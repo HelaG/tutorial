{
 "cells": [
  {
   "cell_type": "code",
   "execution_count": 1,
   "metadata": {},
   "outputs": [],
   "source": [
    "import openfisca_france\n",
    "from openfisca_core.simulations import Simulation\n",
    "from openfisca_core import reforms\n",
    "from openfisca_core import periods\n"
   ]
  },
  {
   "cell_type": "code",
   "execution_count": 9,
   "metadata": {},
   "outputs": [
    {
     "name": "stdout",
     "output_type": "stream",
     "text": [
      "Résultat actuel\n",
      "2014-01-01: 0.14\n",
      "2006-01-01: 0.055\n",
      "2003-01-01: 0.0683\n",
      "2002-01-01: 0.0705\n",
      "2001-01-01: 0.075\n",
      "2000-01-01: 0.0825\n",
      "1999-01-01: 0.095\n",
      "1996-01-01: 0.105\n",
      "1993-01-01: 0.12\n",
      "1973-01-01: 0.05\n",
      "1948-01-01: 0.1\n",
      "1945-01-01: 0.12\n"
     ]
    }
   ],
   "source": [
    "####### Consulter la situation actuelle ##############\n",
    "legislation_france = openfisca_france.FranceTaxBenefitSystem()\n",
    "\n",
    "resultat_actuel = legislation_france.parameters.impot_revenu.bareme[1].rate\n",
    "\n",
    "print \"Résultat actuel\"\n",
    "print resultat_actuel"
   ]
  },
  {
   "cell_type": "code",
   "execution_count": 4,
   "metadata": {},
   "outputs": [],
   "source": [
    "####### Décrivez votre réforme ###########\n",
    "\n",
    "# Cette partie décrit les changements\n",
    "def modify_my_parameters(parameters):\n",
    "    reform_year = 2017\n",
    "    reform_period = periods.period(reform_year)\n",
    "    parameters.impot_revenu.bareme[1].rate.update(start=reform_period, value=0)\n",
    "    return parameters\n",
    "\n",
    "# Cette partie rassemble les changements dans une seule réforme appelée ici MaReforme\n",
    "class MaReform(reforms.Reform):\n",
    "    def apply(self):\n",
    "        self.modify_parameters(modifier_function = modify_my_parameters)"
   ]
  },
  {
   "cell_type": "code",
   "execution_count": 10,
   "metadata": {},
   "outputs": [
    {
     "name": "stdout",
     "output_type": "stream",
     "text": [
      "Resultat après reforme\n",
      "2017: 0\n",
      "2014-01-01: 0.14\n",
      "2006-01-01: 0.055\n",
      "2003-01-01: 0.0683\n",
      "2002-01-01: 0.0705\n",
      "2001-01-01: 0.075\n",
      "2000-01-01: 0.0825\n",
      "1999-01-01: 0.095\n",
      "1996-01-01: 0.105\n",
      "1993-01-01: 0.12\n",
      "1973-01-01: 0.05\n",
      "1948-01-01: 0.1\n",
      "1945-01-01: 0.12\n"
     ]
    }
   ],
   "source": [
    "\n",
    "####### Consulter la situation avec la reforme ##############\n",
    "legislation_reforme = MaReform(legislation_france)\n",
    "\n",
    "resultat_apres_reforme = legislation_reforme.parameters.impot_revenu.bareme[1].rate\n",
    "\n",
    "print \"Resultat après reforme\"\n",
    "print resultat_apres_reforme"
   ]
  },
  {
   "cell_type": "code",
   "execution_count": 6,
   "metadata": {},
   "outputs": [],
   "source": [
    "####### Décrivez les entités ###########\n",
    "situation = {\n",
    "  \"familles\": {\n",
    "    \"famille_1\": {\n",
    "      \"enfants\": [\n",
    "        \"Janet\"\n",
    "      ],\n",
    "      \"parents\": [\n",
    "        \"Alex\",\n",
    "        \"Sam\"\n",
    "      ]\n",
    "    }\n",
    "  },\n",
    "  \"foyers_fiscaux\": {\n",
    "    \"foyer_fiscal_1\": {\n",
    "      \"declarants\": [\n",
    "        \"Alex\",\n",
    "        \"Sam\"\n",
    "      ],\n",
    "      \"personnes_a_charge\": [\n",
    "        \"Janet\"\n",
    "      ]\n",
    "    }\n",
    "  },\n",
    "  \"individus\": {\n",
    "    \"Alex\": {\n",
    "      \"salaire_de_base\": {\n",
    "        \"2017\": 20000\n",
    "      }\n",
    "    },\n",
    "    \"Sam\": {\n",
    "      \"salaire_de_base\": {\n",
    "        \"2017\": 30000\n",
    "      }\n",
    "    },\n",
    "    \"Janet\": {}\n",
    "  },\n",
    "  \"menages\": {\n",
    "    \"menage_1\": {\n",
    "      \"conjoint\": [\n",
    "        \"Sam\"\n",
    "      ],\n",
    "      \"enfants\": [\n",
    "        \"Janet\"\n",
    "      ],\n",
    "\n",
    "      \"personne_de_reference\": [\n",
    "        \"Alex\"\n",
    "      ]\n",
    "    }\n",
    "  }\n",
    "}"
   ]
  },
  {
   "cell_type": "code",
   "execution_count": 7,
   "metadata": {},
   "outputs": [
    {
     "name": "stdout",
     "output_type": "stream",
     "text": [
      "Résultat actuel\n",
      "[-3733.72753906]\n"
     ]
    }
   ],
   "source": [
    "####### Calcule la situation actuelle de la legislation française ##############\n",
    "legislation_france = openfisca_france.FranceTaxBenefitSystem()\n",
    "simulation_actuelle = Simulation(tax_benefit_system=legislation_france, simulation_json=situation)\n",
    "\n",
    "# Insérez ci-dessous la variable que vous souhaitez calculer (ex : 'impots_directs')\n",
    "# ainsi que la periode sur laquelle vous souaitez la calculer (ex : '2017')\n",
    "resultat_actuel = simulation_actuelle.calculate('impots_directs', '2017')\n",
    "\n",
    "print \"Résultat actuel\"\n",
    "print resultat_actuel"
   ]
  },
  {
   "cell_type": "code",
   "execution_count": 8,
   "metadata": {},
   "outputs": [
    {
     "name": "stdout",
     "output_type": "stream",
     "text": [
      "Resultat après reforme\n",
      "[-1211.72827148]\n"
     ]
    }
   ],
   "source": [
    "####### Calcule la situation avec la réforme ##############\n",
    "legislation_reforme = MaReform(legislation_france)\n",
    "simulation_reforme = Simulation(tax_benefit_system=legislation_reforme, simulation_json=situation)\n",
    "\n",
    "# Insérez ci-dessous la variable que vous souhaitez calculer (ex : 'impots_directs')\n",
    "# ainsi que la periode sur laquelle vous souaitez la calculer (ex : '2017')\n",
    "resultat_reforme = simulation_reforme.calculate('impots_directs', '2017')\n",
    "\n",
    "print \"Resultat après reforme\"\n",
    "print resultat_reforme"
   ]
  }
 ],
 "metadata": {
  "kernelspec": {
   "display_name": "Python 2",
   "language": "python",
   "name": "python2"
  },
  "language_info": {
   "codemirror_mode": {
    "name": "ipython",
    "version": 2
   },
   "file_extension": ".py",
   "mimetype": "text/x-python",
   "name": "python",
   "nbconvert_exporter": "python",
   "pygments_lexer": "ipython2",
   "version": "2.7.13"
  }
 },
 "nbformat": 4,
 "nbformat_minor": 2
}
